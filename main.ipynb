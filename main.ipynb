import os
src_dir = 'Tomato/'

# All required libraries
import tensorflow as tf
from tensorflow.keras.preprocessing.image import ImageDataGenerator
import random
import shutil

os.getcwd()
os.chdir(src_dir)
os.getcwd()

# Data Preprocessing Step-1
Creating Train, Valid, Test Floders

# Healthy Tomato Plants
# For train healthy image
if os.path.isfile('train/healthy') is False:
    os.makedirs('train/healthy')
    pics = random.sample(os.listdir('healthy'),400)
    for i in pics:
        path='healthy/'+i
        shutil.move(path,'train/healthy/')       
        
# For validdation healthy images 
if os.path.isfile('valid/healthy') is False:
    os.makedirs('valid/healthy')
    pics = random.sample(os.listdir('healthy'),80)
    for i in pics:
        path='healthy/'+i
        shutil.move(path,'valid/healthy/')
        
# For test healthy images
if os.path.isfile('test/healthy') is False:
    os.makedirs('test/healthy')
    pics = random.sample(os.listdir('healthy'),20)
    for i in pics:
        path='healthy/'+i
        shutil.move(path,'test/healthy/')
        
# Diseased Plants
# For train yellow diseased images
if os.path.isfile('train/yellow_dis') is False:
    os.makedirs('train/yellow_dis')
    pics = random.sample(os.listdir('yellow_dis'),400)
    for i in pics:
        path='yellow_dis/'+i
        shutil.move(path,'train/yellow_dis/')
        
# For valid yellow_dis images
if os.path.isfile('valid/yellow_dis') is False:
    os.makedirs('valid/yellow_dis')
    pics = random.sample(os.listdir('yellow_dis'),80)
    for i in pics:
        path='yellow_dis/'+i
        shutil.move(path,'valid/yellow_dis/')
        
# For test yellow_dis images
if os.path.isfile('test/yellow_dis') is False:
    os.makedirs('test/yellow_dis')
    pics = random.sample(os.listdir('yellow_dis'),20)
    for i in pics:
        path='yellow_dis/'+i
        shutil.move(path,'test/yellow_dis/')
        
# For train early bright images
if os.path.isfile('train/early_brht') is False:
    os.makedirs('train/early_brht')
    pics = random.sample(os.listdir('early_brht'),400)
    for i in pics:
        path='early_brht/'+i
        shutil.move(path,'train/early_brht/')
        
# For valid early bright folder
if os.path.isfile('valid/early_brht') is False:
    os.makedirs('valid/early_brht')
    pics = random.sample(os.listdir('early_brht'),80)
    for i in pics:
        path='early_brht/'+i
        shutil.move(path,'valid/early_brht/')
        
# For test early bright images
if os.path.isfile('test/early_brht') is False:
    os.makedirs('test/early_brht')
    pics = random.sample(os.listdir('early_brht'),20)
    for i in pics:
        path='early_brht/'+i
        shutil.move(path,'test/early_brht/')
        
 Late Bright diseased Plants
# For train late_bnt images
if os.path.isfile('train/late_beht') is False:
    os.makedirs('train/late_beht')
    pics = random.sample(os.listdir('late_beht'),400)
    for i in pics:
        path='late_beht/'+i
        shutil.move(path,'train/late_beht/')
        
# For valid late_beht images
if os.path.isfile('valid/late_beht') is False:
    os.makedirs('valid/late_beht')
    pics = random.sample(os.listdir('late_beht'),80)
    for i in pics:
        path='late_beht/'+i
        shutil.move(path,'valid/late_beht/')
        
# For test late_beht images
if os.path.isfile('test/late_beht') is False:
    os.makedirs('test/late_beht')
    pics = random.sample(os.listdir('late_beht'),20)
    for i in pics:
        path='late_beht/'+i
        shutil.move(path,'test/late_beht/')
Septorial Diseased Plants
# For train septorial images
if os.path.isfile('train/septorial') is False:
    os.makedirs('train/septorial')
    pics = random.sample(os.listdir('septorial'),400)
    for i in pics:
        path='septorial/'+i
        shutil.move(path,'train/septorial/')
        
# For valid sept images
if os.path.isfile('valid/septorial') is False:
    os.makedirs('valid/septorial')
    pics = random.sample(os.listdir('septorial'),80)
    for i in pics:
        path='septorial/'+i
        shutil.move(path,'valid/septorial/')
        
# For test sept images
if os.path.isfile('test/septorial') is False:
    os.makedirs('test/septorial')
    pics = random.sample(os.listdir('septorial'),20)
    for i in pics:
        path='septorial/'+i
        shutil.move(path,'test/septorial/')
        
# Now we are done with the preprocessing. You should see 3 folders Train, Test and valid each with 5 subfolder for 4 diseased category and a healthy plat category
# Defining Train, Validation and Test directory

train_path = '/content/drive/My Drive/plant_disease/train'
valid_path = '/content/drive/My Drive/plant_disease/valid'
test_path = '/content/drive/My Drive/plant_disease/test'

# import all required libraries
import numpy as np
import tensorflow as tf 
from tensorflow.keras.preprocessing.image import ImageDataGenerator
from tensorflow.keras.models import Model
from tensorflow.keras.layers import Dense
from tensorflow.keras.optimizers import Adam
from tensorflow.keras.applications import inception_v3
from tensorflow.keras.applications.inception_v3 import InceptionV3
from tensorflow.keras.preprocessing.image import load_img, img_to_array

# Loading the InceptionV3 model. First time it'll download the model from keras and it is automically saved for later use
inception = InceptionV3(input_shape=(224,224,3),include_top=False,weights='imagenet')

# Seting all layers as non trainable
for i in inception.layers:
  i.trainable = False
  
inception.summary()

# Total layers present in model
len(inception.layers)

# Adding 2 more layers for disease prediction with 5 classes
x = tf.keras.layers.Flatten()(inception.output)
prediction = Dense(5,activation='softmax')(x)

# Combining the inception model layers wiht above layers
model = Model(inputs=inception.input,outputs=prediction)

model.summary()

# Data preprocessing and labeling using keras ImageDataGenerator
# Data Augmentation to avoid Overfitting and for better accuracy

# This data contains 5 classes
# Training data
train_gen = ImageDataGenerator(rescale=1./255,
                               shear_range=0.2,
                               zoom_range=0.2,
                               horizontal_flip=True)
train_batches = train_gen.flow_from_directory(train_path,target_size=(224,224),batch_size=32,class_mode='categorical')

# Validation data
valid_gen = ImageDataGenerator(rescale=1./255)
valid_batches = valid_gen.flow_from_directory(valid_path,target_size=(224,224),batch_size=32,class_mode='categorical')

# test data
test_gen = ImageDataGenerator(rescale=1./255)
test_batches = test_gen.flow_from_directory(test_path,target_size=(224,224),batch_size=32,class_mode='categorical')

# Model Compilation with "Adam" optimizer
model.compile(optimizer='adam',loss='categorical_crossentropy',metrics=['accuracy'])

# Training the model for 30 epochs
model.fit(train_batches,steps_per_epoch=len(train_batches),
                    validation_data=test_batches,validation_steps=len(test_batches),
                    epochs=30)
                    
# The model will be trained for 30 epoch. It'll take time to execute. GPU prefered
                    
# Saving the model for later use
model.save('/content/drive/My Drive/plant_disease/inceptionv3_model(01).h5')

# Evaluating the model on test images 
loss,accuracy = model.evaluate(valid_batches,verbose=0)
print("Loss: ",loss)
print("Accuracy: ",accuracy*100,'%')

# Let's test our Model
# Reloading the saved model
r = tf.keras.models.load_model('/content/drive/My Drive/plant_disease/inceptionv3_model(01).h5')

# All 5 classes
s = {0:'Early Blight Disease',1:'Healthy Plant',2:'Late Blight Disease',3:'Septorial Diseased Plant',
     4:'Yellow Leaf Curl Virus'}
     
import matplotlib.pyplot as plt
# Function to preprocess the Image for predction
def img_predict(path):
  img = load_img(path,target_size=(224,224))
  plt.imshow(img)
  img = img_to_array(img)
  img = img/255
  img = np.expand_dims(img,axis=0)
  pred = np.argmax(r.predict(img))
  print(s[pred])
# Use the above function to test your own image

img_predict(path)
